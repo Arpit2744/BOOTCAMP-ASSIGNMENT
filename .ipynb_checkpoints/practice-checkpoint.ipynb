{
 "cells": [
  {
   "cell_type": "code",
   "execution_count": 1,
   "id": "8e362885-6772-4061-8f51-afb875b6d3e9",
   "metadata": {},
   "outputs": [
    {
     "name": "stdout",
     "output_type": "stream",
     "text": [
      "i:0 and j:0\n",
      "i:0 and j:1\n",
      "i:1 and j:0\n",
      "i:1 and j:1\n",
      "i:2 and j:0\n",
      "i:2 and j:1\n"
     ]
    }
   ],
   "source": [
    "for i in range(3):\n",
    "    for j in range(2):\n",
    "        print(f\"i:{i} and j:{j}\")"
   ]
  },
  {
   "cell_type": "code",
   "execution_count": 2,
   "id": "5a5f1e82-428f-4bd3-8cc0-bf96838d8705",
   "metadata": {},
   "outputs": [
    {
     "name": "stdin",
     "output_type": "stream",
     "text": [
      "enter a number:  7\n"
     ]
    },
    {
     "name": "stdout",
     "output_type": "stream",
     "text": [
      "sum is:  28\n"
     ]
    }
   ],
   "source": [
    "num = int(input(\"enter a number: \"))\n",
    "sum = 0\n",
    "count = 1\n",
    "while count<=num:\n",
    "    sum += count\n",
    "    count += 1\n",
    "print(\"sum is: \",sum)"
   ]
  },
  {
   "cell_type": "code",
   "execution_count": 3,
   "id": "f838d61a-f5d8-4279-a7ab-f62bd067e20e",
   "metadata": {},
   "outputs": [
    {
     "name": "stdin",
     "output_type": "stream",
     "text": [
      "enter a number:  5\n"
     ]
    },
    {
     "name": "stdout",
     "output_type": "stream",
     "text": [
      "15\n"
     ]
    }
   ],
   "source": [
    "num = int(input(\"enter a number: \"))\n",
    "sum = 0\n",
    "for i in range(num+1):\n",
    "    sum += i\n",
    "print(sum)"
   ]
  },
  {
   "cell_type": "code",
   "execution_count": 8,
   "id": "95f8635b-917e-4087-906c-11caaa56b09b",
   "metadata": {},
   "outputs": [
    {
     "name": "stdout",
     "output_type": "stream",
     "text": [
      "2 3 5 7 11 13 17 19 23 29 31 37 41 43 47 53 59 61 67 71 73 79 83 89 97 "
     ]
    }
   ],
   "source": [
    "for num in range(1,101):\n",
    "    if num>1:\n",
    "        for i in range(2,num):\n",
    "            if num%i==0:\n",
    "                break\n",
    "        else:\n",
    "            print(num,end=' ')"
   ]
  },
  {
   "cell_type": "markdown",
   "id": "2a49b717-8e88-49f4-ad77-dc9604a130be",
   "metadata": {},
   "source": [
    "# list introduction\n",
    "list are ordered,mutable collection of items\n",
    "they can contain items of different data types"
   ]
  },
  {
   "cell_type": "code",
   "execution_count": 9,
   "id": "7942e614-4d1a-4b64-9fb4-c5f0d3698bc8",
   "metadata": {},
   "outputs": [
    {
     "name": "stdout",
     "output_type": "stream",
     "text": [
      "<class 'list'>\n"
     ]
    }
   ],
   "source": [
    "lst = []\n",
    "print(type(lst))"
   ]
  },
  {
   "cell_type": "code",
   "execution_count": 10,
   "id": "e016aa0b-d848-49cf-a9a2-17bcb8c08d64",
   "metadata": {},
   "outputs": [
    {
     "name": "stdout",
     "output_type": "stream",
     "text": [
      "['arpit', '33', 3, 3.4]\n"
     ]
    }
   ],
   "source": [
    "lst = [\"arpit\",'33',3,3.4]\n",
    "print(lst)"
   ]
  },
  {
   "cell_type": "markdown",
   "id": "dc6af489-bcf5-4f6b-8c66-b5990bafee59",
   "metadata": {},
   "source": [
    "## accesing list item"
   ]
  },
  {
   "cell_type": "code",
   "execution_count": 18,
   "id": "a78bc9fd-a241-49cd-9597-28ce90288b4b",
   "metadata": {},
   "outputs": [
    {
     "name": "stdout",
     "output_type": "stream",
     "text": [
      "apple\n",
      "guava\n",
      "['apple', 'kiwi', 'guava']\n"
     ]
    }
   ],
   "source": [
    "fruits = [\"apple\",\"banana\",\"kiwi\",\"cherry\",\"guava\"]\n",
    "print(fruits[0])\n",
    "print(fruits[-1])\n",
    "print(fruits[0:5:2]) ## 0 is starting point 5 is number of item 2 is step"
   ]
  },
  {
   "cell_type": "markdown",
   "id": "03054a0a-a16b-41f2-a406-b2e888593fe1",
   "metadata": {},
   "source": [
    "## modifying the list element"
   ]
  },
  {
   "cell_type": "code",
   "execution_count": 19,
   "id": "e5b2bc42-08aa-4d74-8beb-d46165a9e989",
   "metadata": {},
   "outputs": [
    {
     "name": "stdout",
     "output_type": "stream",
     "text": [
      "['apple', 'lemon', 'kiwi', 'cherry', 'guava']\n"
     ]
    }
   ],
   "source": [
    "fruits[1] = \"lemon\"\n",
    "print(fruits)"
   ]
  },
  {
   "cell_type": "code",
   "execution_count": null,
   "id": "4b8962b9-5fde-420f-8848-5a7426d6de66",
   "metadata": {},
   "outputs": [],
   "source": []
  }
 ],
 "metadata": {
  "kernelspec": {
   "display_name": "Python 3 (ipykernel)",
   "language": "python",
   "name": "python3"
  },
  "language_info": {
   "codemirror_mode": {
    "name": "ipython",
    "version": 3
   },
   "file_extension": ".py",
   "mimetype": "text/x-python",
   "name": "python",
   "nbconvert_exporter": "python",
   "pygments_lexer": "ipython3",
   "version": "3.13.5"
  }
 },
 "nbformat": 4,
 "nbformat_minor": 5
}
