{
 "cells": [
  {
   "cell_type": "markdown",
   "id": "3ef735dd-3810-45b4-be82-70350c3eea5a",
   "metadata": {},
   "source": [
    "# Module 2: Control Flow Assignments\n",
    "## Lesson 2.1: Conditional Statements\n",
    "### Assignment 1: Simple if Statement\n",
    "\n",
    "Write a program that asks the user to input a number and prints whether the number is positive."
   ]
  },
  {
   "cell_type": "code",
   "execution_count": 6,
   "id": "e213aaa7-8dfd-4807-9e49-187f5d851db3",
   "metadata": {},
   "outputs": [
    {
     "name": "stdin",
     "output_type": "stream",
     "text": [
      "enter a number:  8\n"
     ]
    },
    {
     "name": "stdout",
     "output_type": "stream",
     "text": [
      "positive number\n"
     ]
    }
   ],
   "source": [
    "num = int(input(\"enter a number: \"))\n",
    "if num >=0:\n",
    "    print(\"positive number\")"
   ]
  },
  {
   "cell_type": "markdown",
   "id": "f946bf05-ebf9-4395-af10-fc61c400d309",
   "metadata": {},
   "source": [
    "Assignment 2: if-else Statement"
   ]
  },
  {
   "cell_type": "code",
   "execution_count": 4,
   "id": "5bf67897-84e5-410c-9d6d-6d75965c138c",
   "metadata": {},
   "outputs": [
    {
     "name": "stdin",
     "output_type": "stream",
     "text": [
      "enter a number:  0\n"
     ]
    },
    {
     "name": "stdout",
     "output_type": "stream",
     "text": [
      "positive number\n"
     ]
    }
   ],
   "source": [
    "##Write a program that asks the user to input a number and prints whether the number is positive or negative.\n",
    "num = int(input(\"enter a number: \"))\n",
    "if num >=0:\n",
    "    print(\"positive number\")\n",
    "else:\n",
    "    print(\"negative number\")"
   ]
  },
  {
   "cell_type": "markdown",
   "id": "cf7ed737-4f71-4696-84b0-691870b90590",
   "metadata": {},
   "source": [
    "### Assignment 3: if-elif-else Statement"
   ]
  },
  {
   "cell_type": "code",
   "execution_count": 7,
   "id": "23b29762-7047-4e71-850c-5d61e7696a4d",
   "metadata": {},
   "outputs": [
    {
     "name": "stdin",
     "output_type": "stream",
     "text": [
      "enter a number:  0\n"
     ]
    },
    {
     "name": "stdout",
     "output_type": "stream",
     "text": [
      "num is zero\n"
     ]
    }
   ],
   "source": [
    "##Write a program that asks the user to input a number and prints whether the number is positive, negative, or zero.\n",
    "num = int(input(\"enter a number: \"))\n",
    "if num >0:\n",
    "    print(\"positive number\")\n",
    "elif num==0:\n",
    "    print(\"num is zero\")\n",
    "else:\n",
    "    print(\"negative number\")"
   ]
  },
  {
   "cell_type": "markdown",
   "id": "c84d5ced-3441-4343-85fe-c9d65fd473c6",
   "metadata": {},
   "source": [
    "### Assignment 4: Nested if Statement"
   ]
  },
  {
   "cell_type": "code",
   "execution_count": 10,
   "id": "ad16d81f-a31a-49ea-a694-5986a43f72d1",
   "metadata": {},
   "outputs": [
    {
     "name": "stdin",
     "output_type": "stream",
     "text": [
      "enter a number:  -5\n"
     ]
    },
    {
     "name": "stdout",
     "output_type": "stream",
     "text": [
      "negative number\n"
     ]
    }
   ],
   "source": [
    "##Write a program that asks the user to input a number and prints whether the number is positive and even, positive and odd, or negative.\n",
    "num = int(input(\"enter a number: \"))\n",
    "if num >=0:\n",
    "    print(\"positive number\")\n",
    "    if num%2==0:\n",
    "        print(\"num is even\")\n",
    "    else:\n",
    "        print(\"num is odd\")\n",
    "else:\n",
    "    print(\"negative number\")"
   ]
  },
  {
   "cell_type": "markdown",
   "id": "b3519e0e-15c7-40d1-a72b-e0998dc95268",
   "metadata": {},
   "source": [
    "## Lesson 2.2: Loops\n",
    "### Assignment 5: for Loop"
   ]
  },
  {
   "cell_type": "code",
   "execution_count": 12,
   "id": "beb4079d-5859-4664-8fb5-b4da69cad54f",
   "metadata": {},
   "outputs": [
    {
     "name": "stdout",
     "output_type": "stream",
     "text": [
      "1\n",
      "2\n",
      "3\n",
      "4\n",
      "5\n",
      "6\n",
      "7\n",
      "8\n",
      "9\n",
      "10\n"
     ]
    }
   ],
   "source": [
    "#Write a program that prints all the numbers from 1 to 10 using a for loop.\n",
    "for i in range(1,11):\n",
    "    print(i)"
   ]
  },
  {
   "cell_type": "markdown",
   "id": "aba7668f-39df-4067-b4ab-5b09bf867cf9",
   "metadata": {},
   "source": [
    "### Assignment 6: while Loop"
   ]
  },
  {
   "cell_type": "code",
   "execution_count": 14,
   "id": "ae9a72ff-2e8f-4d6d-a752-94f006aaaf41",
   "metadata": {},
   "outputs": [
    {
     "name": "stdout",
     "output_type": "stream",
     "text": [
      "1\n",
      "2\n",
      "3\n",
      "4\n",
      "5\n",
      "6\n",
      "7\n",
      "8\n",
      "9\n",
      "10\n"
     ]
    }
   ],
   "source": [
    "#Write a program that prints all the numbers from 1 to 10 using a while loop.\n",
    "num = 1\n",
    "while num<10:\n",
    "    print(num)\n",
    "    num += 1\n",
    "print(num)"
   ]
  },
  {
   "cell_type": "markdown",
   "id": "a35d9d64-d8ce-440b-8342-a3254bf5fb12",
   "metadata": {},
   "source": [
    "### Assignment 7: Nested Loops"
   ]
  },
  {
   "cell_type": "code",
   "execution_count": 27,
   "id": "4407b392-1d06-45d5-b4ad-27b2fb6c191c",
   "metadata": {},
   "outputs": [
    {
     "name": "stdout",
     "output_type": "stream",
     "text": [
      "* * * * * \n",
      "* * * * * \n",
      "* * * * * \n",
      "* * * * * \n",
      "* * * * * \n"
     ]
    }
   ],
   "source": [
    "#Write a program that prints a 5x5 grid of asterisks (*) using nested loops.\n",
    "num = 1\n",
    "for i in range(5):\n",
    "    for j in range(5):\n",
    "        print(\"*\", end =\" \")\n",
    "    print()"
   ]
  },
  {
   "cell_type": "markdown",
   "id": "6b438d46-ab58-4950-87dd-5c4064889b92",
   "metadata": {},
   "source": [
    "### Assignment 8: break Statement"
   ]
  },
  {
   "cell_type": "code",
   "execution_count": 33,
   "id": "80e31aa7-dbc2-473b-a083-dcdc29dff471",
   "metadata": {},
   "outputs": [
    {
     "name": "stdin",
     "output_type": "stream",
     "text": [
      "enter a number:  7\n",
      "enter a number:  4\n",
      "enter a number:  5\n",
      "enter a number:  0\n"
     ]
    },
    {
     "name": "stdout",
     "output_type": "stream",
     "text": [
      "16\n"
     ]
    }
   ],
   "source": [
    "#Write a program that asks the user to input numbers until they input 0. The program should print the sum of all the input numbers.\n",
    "total = 0\n",
    "while True:\n",
    "    num = int(input(\"enter a number: \"))\n",
    "    if num == 0:\n",
    "        break\n",
    "    total += num\n",
    "print(total)"
   ]
  },
  {
   "cell_type": "markdown",
   "id": "6c3a0f30-1885-4e66-83c5-d565484b2da3",
   "metadata": {},
   "source": [
    "### Assignment 9: continue Statement"
   ]
  },
  {
   "cell_type": "code",
   "execution_count": 40,
   "id": "6d927173-c3c0-420d-9a94-3308ce198270",
   "metadata": {},
   "outputs": [
    {
     "name": "stdout",
     "output_type": "stream",
     "text": [
      "1 2 3 4 6 7 8 9 10 "
     ]
    }
   ],
   "source": [
    "#Write a program that prints all the numbers from 1 to 10 except 5 using a for loop and continue statement.\n",
    "for i in range(1,11):\n",
    "    if i == 5:\n",
    "        continue\n",
    "    print(i,end=\" \")"
   ]
  },
  {
   "cell_type": "markdown",
   "id": "bd5fed3a-047f-416d-9abb-2636fba0bd0f",
   "metadata": {},
   "source": [
    "### Assignment 10: pass Statement"
   ]
  },
  {
   "cell_type": "code",
   "execution_count": 42,
   "id": "7c54a092-b2ea-47cc-bfa1-87db05ac1b7b",
   "metadata": {},
   "outputs": [],
   "source": [
    "#Write a program that defines an empty function using the pass statement.\n",
    "def empty_function():\n",
    "    pass\n",
    "\n",
    "empty_function()"
   ]
  },
  {
   "cell_type": "markdown",
   "id": "9bc38880-40a7-4b16-8382-cc7fd0fe3b45",
   "metadata": {},
   "source": [
    "### Assignment 11: Combining Loops and Conditionals"
   ]
  },
  {
   "cell_type": "code",
   "execution_count": 48,
   "id": "0e063569-4088-4518-a0e1-96097900819f",
   "metadata": {},
   "outputs": [
    {
     "name": "stdin",
     "output_type": "stream",
     "text": [
      "enter a number:  8\n"
     ]
    },
    {
     "name": "stdout",
     "output_type": "stream",
     "text": [
      "2\n",
      "4\n",
      "6\n",
      "8\n"
     ]
    }
   ],
   "source": [
    "#Write a program that asks the user to input a number and prints all the even numbers from 1 to that number using a for loop.\n",
    "num = int(input(\"enter a number: \"))\n",
    "for i in range(1,num+1):\n",
    "    if i % 2 == 0:\n",
    "        print(i)"
   ]
  },
  {
   "cell_type": "markdown",
   "id": "ee92ea8c-6d59-4470-8c88-edb0e28d77c7",
   "metadata": {},
   "source": [
    "### Assignment 12: Factorial Calculation"
   ]
  },
  {
   "cell_type": "code",
   "execution_count": null,
   "id": "a65da330-f9fd-45b3-a0ea-cc493ea72a60",
   "metadata": {},
   "outputs": [],
   "source": [
    "#Write a program that calculates the factorial of a number input by the user using a while loop.\n"
   ]
  },
  {
   "cell_type": "markdown",
   "id": "805f7b08-d938-4ed5-a109-43abf3604c6a",
   "metadata": {},
   "source": [
    "### Assignment 13: Sum of Digits"
   ]
  },
  {
   "cell_type": "code",
   "execution_count": null,
   "id": "5786d13a-9f33-4bea-b8a8-550d519e6fd5",
   "metadata": {},
   "outputs": [],
   "source": [
    "#Write a program that calculates the sum of the digits of a number input by the user using a while loop.\n"
   ]
  },
  {
   "cell_type": "markdown",
   "id": "310c3f48-586e-42c0-b6fc-67346cdb2a76",
   "metadata": {},
   "source": [
    "### Assignment 14: Prime Number Check"
   ]
  },
  {
   "cell_type": "code",
   "execution_count": null,
   "id": "0c7c13a0-fd1c-4dc8-b148-06cc7c6e627b",
   "metadata": {},
   "outputs": [],
   "source": [
    "#Write a program that checks if a number input by the user is a prime number using a for loop.\n"
   ]
  },
  {
   "cell_type": "markdown",
   "id": "b823a581-e965-4b00-a711-b441fbaecdbd",
   "metadata": {},
   "source": [
    "### Assignment 15: Fibonacci Sequence"
   ]
  },
  {
   "cell_type": "code",
   "execution_count": null,
   "id": "8aa16ad6-b7bc-4422-b1bf-d2a9b035ca6d",
   "metadata": {},
   "outputs": [],
   "source": [
    "#Write a program that prints the first n Fibonacci numbers, where n is input by the user.\n"
   ]
  }
 ],
 "metadata": {
  "kernelspec": {
   "display_name": "Python 3 (ipykernel)",
   "language": "python",
   "name": "python3"
  },
  "language_info": {
   "codemirror_mode": {
    "name": "ipython",
    "version": 3
   },
   "file_extension": ".py",
   "mimetype": "text/x-python",
   "name": "python",
   "nbconvert_exporter": "python",
   "pygments_lexer": "ipython3",
   "version": "3.13.5"
  }
 },
 "nbformat": 4,
 "nbformat_minor": 5
}
