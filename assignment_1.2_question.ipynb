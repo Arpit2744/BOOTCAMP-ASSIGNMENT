{
 "cells": [
  {
   "cell_type": "markdown",
   "metadata": {},
   "source": [
    "# Lesson 1.2: Python Basics\n",
    "## Topics Covered:\n",
    "- Syntax and Semantics\n",
    "- Variables and Data Types\n",
    "- Basic Operators (Arithmetic, Comparison, Logical)\n"
   ]
  },
  {
   "cell_type": "markdown",
   "metadata": {},
   "source": [
    "## 1. Syntax and Semantics\n",
    "\n",
    "**Question 1:** Write a Python program to print \"Hello, World!\"."
   ]
  },
  {
   "cell_type": "code",
   "execution_count": 1,
   "metadata": {},
   "outputs": [
    {
     "name": "stdout",
     "output_type": "stream",
     "text": [
      "hello world!\n"
     ]
    }
   ],
   "source": [
    "# Your code here\n",
    "print(\"hello world!\")"
   ]
  },
  {
   "cell_type": "markdown",
   "metadata": {},
   "source": [
    "**Question 2:** Write a Python program that takes a user input and prints it."
   ]
  },
  {
   "cell_type": "code",
   "execution_count": 3,
   "metadata": {},
   "outputs": [
    {
     "name": "stdin",
     "output_type": "stream",
     "text": [
      "enter the name:  arpit singh\n"
     ]
    },
    {
     "name": "stdout",
     "output_type": "stream",
     "text": [
      "you entere: arpit singh\n"
     ]
    }
   ],
   "source": [
    "# Your code here\n",
    "str1 = input(\"enter the name: \")\n",
    "print(f\"you entere: {str1}\")"
   ]
  },
  {
   "cell_type": "markdown",
   "metadata": {},
   "source": [
    "**Question 3:** Write a Python program to check if a number is positive, negative, or zero."
   ]
  },
  {
   "cell_type": "code",
   "execution_count": 7,
   "metadata": {},
   "outputs": [
    {
     "name": "stdin",
     "output_type": "stream",
     "text": [
      "enter the number:  -9\n"
     ]
    },
    {
     "name": "stdout",
     "output_type": "stream",
     "text": [
      "negative number\n"
     ]
    }
   ],
   "source": [
    "num = int(input(\"enter the number: \"))\n",
    "if num > 0:\n",
    "          print(\"positive number\")\n",
    "elif num < 0:\n",
    "          print(\"negative number\")\n",
    "else:\n",
    "         print(\"zero\")"
   ]
  },
  {
   "cell_type": "markdown",
   "metadata": {},
   "source": [
    "**Question 4:** Write a Python program to find the largest of three numbers."
   ]
  },
  {
   "cell_type": "code",
   "execution_count": 9,
   "metadata": {},
   "outputs": [
    {
     "name": "stdin",
     "output_type": "stream",
     "text": [
      "enter num 1:  9\n",
      "enter num 2:  0\n",
      "enter num 3:  9\n"
     ]
    },
    {
     "name": "stdout",
     "output_type": "stream",
     "text": [
      "num 9 is the greatest number\n"
     ]
    }
   ],
   "source": [
    "# Your code here\n",
    "a = int(input(\"enter num 1: \"))\n",
    "b = int(input(\"enter num 2: \"))\n",
    "c = int(input(\"enter num 3: \"))\n",
    "if a>b and a>c:\n",
    "    print(f\"num {a} is the greatest number\")\n",
    "elif b>a and b>c:\n",
    "    print(f\"num {b} is the greatest number\")\n",
    "else:\n",
    "    print(f\"num {c} is the greatest number\")"
   ]
  },
  {
   "cell_type": "markdown",
   "metadata": {},
   "source": [
    "**Question 5:** Write a Python program to calculate the factorial of a number."
   ]
  },
  {
   "cell_type": "code",
   "execution_count": null,
   "metadata": {},
   "outputs": [],
   "source": [
    "# Your code here\n"
   ]
  },
  {
   "cell_type": "markdown",
   "metadata": {},
   "source": [
    "## 2. Variables and Data Types\n",
    "\n",
    "**Question 6:** Create variables of different data types: integer, float, string, and boolean. Print their values and types."
   ]
  },
  {
   "cell_type": "code",
   "execution_count": 5,
   "metadata": {},
   "outputs": [
    {
     "name": "stdin",
     "output_type": "stream",
     "text": [
      "enter int number:  6\n",
      "enter float value:  8\n",
      "enter the string:  65\n",
      "enter the bool:  2\n"
     ]
    },
    {
     "name": "stdout",
     "output_type": "stream",
     "text": [
      "6 <class 'int'>\n",
      "8.0 <class 'float'>\n",
      "65 <class 'str'>\n",
      "True <class 'bool'>\n"
     ]
    }
   ],
   "source": [
    "# Your code here\n",
    "a = int(input(\"enter int number: \"))\n",
    "b = float(input(\"enter float value: \"))\n",
    "c = input(\"enter the string: \")\n",
    "d = bool(input(\"enter the bool: \"))\n",
    "print(a,type(a))\n",
    "print(b,type(b))\n",
    "print(c,type(c))\n",
    "print(d,type(d))"
   ]
  },
  {
   "cell_type": "markdown",
   "metadata": {},
   "source": [
    "**Question 7:** Write a Python program to swap the values of two variables."
   ]
  },
  {
   "cell_type": "code",
   "execution_count": 9,
   "metadata": {},
   "outputs": [
    {
     "name": "stdin",
     "output_type": "stream",
     "text": [
      "enter num1:  5\n",
      "enter num2:  6\n"
     ]
    },
    {
     "name": "stdout",
     "output_type": "stream",
     "text": [
      "number before change a: 5, b: 6\n",
      "num1:  6\n",
      "num2:  5\n"
     ]
    }
   ],
   "source": [
    "# Your code here\n",
    "a = int(input(\"enter num1: \"))\n",
    "b = int(input(\"enter num2: \"))\n",
    "\n",
    "print(f\"number before change a: {a}, b: {b}\")\n",
    "\n",
    "a,b=b,a\n",
    "\n",
    "##temp = a \n",
    "##a = b\n",
    "##b = temp\n",
    "\n",
    "\n",
    "print(\"num1: \",a)\n",
    "print(\"num2: \",b)"
   ]
  },
  {
   "cell_type": "markdown",
   "metadata": {},
   "source": [
    "**Question 8:** Write a Python program to convert Celsius to Fahrenheit."
   ]
  },
  {
   "cell_type": "code",
   "execution_count": 10,
   "metadata": {},
   "outputs": [
    {
     "name": "stdin",
     "output_type": "stream",
     "text": [
      "enter temperature in celcius:  32\n"
     ]
    },
    {
     "name": "stdout",
     "output_type": "stream",
     "text": [
      "temp in fahrenheit is 89.6\n"
     ]
    }
   ],
   "source": [
    "# Your code here\n",
    "temp = int(input(\"enter temperature in celcius: \"))\n",
    "far = (temp * 9/5) + 32\n",
    "print(f\"temp in fahrenheit is {far}\")"
   ]
  },
  {
   "cell_type": "markdown",
   "metadata": {},
   "source": [
    "**Question 9:** Write a Python program to concatenate two strings."
   ]
  },
  {
   "cell_type": "code",
   "execution_count": 15,
   "metadata": {},
   "outputs": [
    {
     "name": "stdin",
     "output_type": "stream",
     "text": [
      "enter string1:  arpit\n",
      "enter string2:  singh\n"
     ]
    },
    {
     "name": "stdout",
     "output_type": "stream",
     "text": [
      "arpit singh\n"
     ]
    }
   ],
   "source": [
    "# Your code here\n",
    "str1 = input(\"enter string1: \")\n",
    "str2 = input(\"enter string2: \")\n",
    "\n",
    "con_str = str1 + \" \" + str2\n",
    "print(con_str)"
   ]
  },
  {
   "cell_type": "markdown",
   "metadata": {},
   "source": [
    "**Question 10:** Write a Python program to check if a variable is of a specific data type."
   ]
  },
  {
   "cell_type": "code",
   "execution_count": 21,
   "metadata": {},
   "outputs": [
    {
     "name": "stdout",
     "output_type": "stream",
     "text": [
      " True is a bool\n"
     ]
    }
   ],
   "source": [
    "# Your code here\n",
    "var1 = True\n",
    "if isinstance(var1,bool):\n",
    "    print(f\" {var1} is a bool\")\n",
    "else:\n",
    "    print(f\"{var1} is not a bool\")"
   ]
  },
  {
   "cell_type": "markdown",
   "metadata": {},
   "source": [
    "## 3. Basic Operators (Arithmetic, Comparison, Logical)\n",
    "\n",
    "**Question 11:** Write a Python program to perform arithmetic operations: addition, subtraction, multiplication, and division."
   ]
  },
  {
   "cell_type": "code",
   "execution_count": 23,
   "metadata": {},
   "outputs": [
    {
     "name": "stdin",
     "output_type": "stream",
     "text": [
      "enter num1:  8\n",
      "enter num2:  9\n"
     ]
    },
    {
     "name": "stdout",
     "output_type": "stream",
     "text": [
      "sum is 17\n",
      "sub is -1\n",
      "mul is 72\n",
      "div is 0.8888888888888888\n"
     ]
    }
   ],
   "source": [
    "# Your code here\n",
    "num1 = int(input(\"enter num1: \"))\n",
    "num2 = int(input(\"enter num2: \"))\n",
    "\n",
    "print(f\"sum is {num1+num2}\")\n",
    "print(f\"sub is {num1-num2}\")\n",
    "print(f\"mul is {num1*num2}\")\n",
    "print(f\"div is {num1/num2}\")"
   ]
  },
  {
   "cell_type": "markdown",
   "metadata": {},
   "source": [
    "**Question 12:** Write a Python program to demonstrate comparison operators: equal to, not equal to, greater than, less than."
   ]
  },
  {
   "cell_type": "code",
   "execution_count": 34,
   "metadata": {},
   "outputs": [
    {
     "name": "stdin",
     "output_type": "stream",
     "text": [
      "enter a number1:  5\n",
      "enter a number2:  6\n"
     ]
    },
    {
     "name": "stdout",
     "output_type": "stream",
     "text": [
      "5 is less than 6\n"
     ]
    }
   ],
   "source": [
    "# Your code here\n",
    "num1 = int(input(\"enter a number1: \"))\n",
    "num2 = int(input(\"enter a number2: \"))\n",
    "if num1==num2:\n",
    "    print(f\"{num1} and {num2} are equal\")\n",
    "elif num1!=num2:\n",
    "    if num1 >= num2:\n",
    "        print(f\"{num1} is greater than {num2}\")\n",
    "    else:\n",
    "        print(f\"{num1} is less than {num2}\")"
   ]
  },
  {
   "cell_type": "markdown",
   "metadata": {},
   "source": [
    "**Question 13:** Write a Python program to demonstrate logical operators: and, or, not."
   ]
  },
  {
   "cell_type": "code",
   "execution_count": 36,
   "metadata": {},
   "outputs": [
    {
     "name": "stdout",
     "output_type": "stream",
     "text": [
      "true and false: False\n",
      "true or false: True\n",
      "not b: True\n"
     ]
    }
   ],
   "source": [
    "# Your code here\n",
    "a = True\n",
    "b = False\n",
    "\n",
    "print(f\"true and false: {a and b}\")\n",
    "print(f\"true or false: {a or b}\")\n",
    "print(f\"not b: {not b}\")"
   ]
  },
  {
   "cell_type": "markdown",
   "metadata": {},
   "source": [
    "**Question 14:** Write a Python program to calculate the square of a number."
   ]
  },
  {
   "cell_type": "code",
   "execution_count": 37,
   "metadata": {},
   "outputs": [
    {
     "name": "stdin",
     "output_type": "stream",
     "text": [
      "enter num:  5\n"
     ]
    },
    {
     "name": "stdout",
     "output_type": "stream",
     "text": [
      "sqr of th num is 25\n"
     ]
    }
   ],
   "source": [
    "# Your code here\n",
    "sqr = int(input(\"enter num: \"))\n",
    "print(f\"sqr of th num is {sqr*sqr}\")"
   ]
  },
  {
   "cell_type": "markdown",
   "metadata": {},
   "source": [
    "**Question 15:** Write a Python program to check if a number is even or odd."
   ]
  },
  {
   "cell_type": "code",
   "execution_count": 40,
   "metadata": {},
   "outputs": [
    {
     "name": "stdin",
     "output_type": "stream",
     "text": [
      "enter the number:  0\n"
     ]
    },
    {
     "name": "stdout",
     "output_type": "stream",
     "text": [
      "0 is a even number\n"
     ]
    }
   ],
   "source": [
    "# Your code here\n",
    "num = int(input(\"enter the number: \"))\n",
    "if num % 2 == 0:\n",
    "    print(f\"{num} is a even number\")\n",
    "else:\n",
    "    print(f\"{num} is a odd number\")"
   ]
  },
  {
   "cell_type": "markdown",
   "metadata": {},
   "source": [
    "**Question 16:** Write a Python program to find the sum of the first n natural numbers."
   ]
  },
  {
   "cell_type": "code",
   "execution_count": 45,
   "metadata": {},
   "outputs": [
    {
     "name": "stdin",
     "output_type": "stream",
     "text": [
      "enter a number:  5\n"
     ]
    },
    {
     "name": "stdout",
     "output_type": "stream",
     "text": [
      "15\n"
     ]
    }
   ],
   "source": [
    "# Your code here\n",
    "num = int(input(\"enter a number: \"))\n",
    "sum = 0\n",
    "for i in range(num+1):\n",
    "    sum += i\n",
    "print(sum)\n",
    "    "
   ]
  },
  {
   "cell_type": "markdown",
   "metadata": {},
   "source": [
    "**Question 17:** Write a Python program to check if a year is a leap year."
   ]
  },
  {
   "cell_type": "code",
   "execution_count": 46,
   "metadata": {},
   "outputs": [
    {
     "name": "stdin",
     "output_type": "stream",
     "text": [
      "enter year:  2002\n"
     ]
    },
    {
     "name": "stdout",
     "output_type": "stream",
     "text": [
      "not a leap year\n"
     ]
    }
   ],
   "source": [
    "# Your code here\n",
    "year = int(input(\"enter year: \"))\n",
    "if( year % 4==0 and year % 100 !=0) or (year % 400==0):\n",
    "    print(\"leap year\")\n",
    "else:\n",
    "    print(\"not a leap year\")"
   ]
  },
  {
   "cell_type": "markdown",
   "metadata": {},
   "source": [
    "**Question 18:** Write a Python program to reverse a string."
   ]
  },
  {
   "cell_type": "code",
   "execution_count": 51,
   "metadata": {},
   "outputs": [
    {
     "name": "stdin",
     "output_type": "stream",
     "text": [
      "enter a string:  lelo\n"
     ]
    },
    {
     "name": "stdout",
     "output_type": "stream",
     "text": [
      "reverse string is: olel\n"
     ]
    }
   ],
   "source": [
    "# Your code here\n",
    "string = input(\"enter a string: \")\n",
    "str1 = string[::-1]\n",
    "print(f\"reverse string is: {str1}\")"
   ]
  },
  {
   "cell_type": "markdown",
   "metadata": {},
   "source": [
    "**Question 19:** Write a Python program to check if a string is a palindrome."
   ]
  },
  {
   "cell_type": "code",
   "execution_count": null,
   "metadata": {},
   "outputs": [],
   "source": [
    "# Your code here\n"
   ]
  },
  {
   "cell_type": "markdown",
   "metadata": {},
   "source": [
    "**Question 20:** Write a Python program to sort a list of numbers in ascending order."
   ]
  },
  {
   "cell_type": "code",
   "execution_count": null,
   "metadata": {},
   "outputs": [],
   "source": [
    "# Your code here"
   ]
  }
 ],
 "metadata": {
  "kernelspec": {
   "display_name": "Python 3 (ipykernel)",
   "language": "python",
   "name": "python3"
  },
  "language_info": {
   "codemirror_mode": {
    "name": "ipython",
    "version": 3
   },
   "file_extension": ".py",
   "mimetype": "text/x-python",
   "name": "python",
   "nbconvert_exporter": "python",
   "pygments_lexer": "ipython3",
   "version": "3.13.5"
  }
 },
 "nbformat": 4,
 "nbformat_minor": 4
}
